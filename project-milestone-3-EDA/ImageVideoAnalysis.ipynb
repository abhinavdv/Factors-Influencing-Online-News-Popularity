{
 "cells": [
  {
   "cell_type": "code",
   "execution_count": 1,
   "id": "10254ca6-e299-49ec-8bba-a612c1ee2cf6",
   "metadata": {},
   "outputs": [],
   "source": [
    "import pandas as pd\n",
    "import numpy as np\n",
    "import matplotlib.pyplot as plt\n",
    "from sklearn import linear_model\n",
    "from sklearn.preprocessing import PolynomialFeatures\n",
    "import scipy.stats as stats "
   ]
  },
  {
   "cell_type": "code",
   "execution_count": 2,
   "id": "97c3b4e7-cf6c-43eb-8933-133d476e9a3e",
   "metadata": {},
   "outputs": [
    {
     "data": {
      "text/html": [
       "<div>\n",
       "<style scoped>\n",
       "    .dataframe tbody tr th:only-of-type {\n",
       "        vertical-align: middle;\n",
       "    }\n",
       "\n",
       "    .dataframe tbody tr th {\n",
       "        vertical-align: top;\n",
       "    }\n",
       "\n",
       "    .dataframe thead th {\n",
       "        text-align: right;\n",
       "    }\n",
       "</style>\n",
       "<table border=\"1\" class=\"dataframe\">\n",
       "  <thead>\n",
       "    <tr style=\"text-align: right;\">\n",
       "      <th></th>\n",
       "      <th>url</th>\n",
       "      <th>timedelta</th>\n",
       "      <th>n_tokens_title</th>\n",
       "      <th>n_tokens_content</th>\n",
       "      <th>n_unique_tokens</th>\n",
       "      <th>n_non_stop_words</th>\n",
       "      <th>n_non_stop_unique_tokens</th>\n",
       "      <th>num_hrefs</th>\n",
       "      <th>num_self_hrefs</th>\n",
       "      <th>num_imgs</th>\n",
       "      <th>...</th>\n",
       "      <th>min_positive_polarity</th>\n",
       "      <th>max_positive_polarity</th>\n",
       "      <th>avg_negative_polarity</th>\n",
       "      <th>min_negative_polarity</th>\n",
       "      <th>max_negative_polarity</th>\n",
       "      <th>title_subjectivity</th>\n",
       "      <th>title_sentiment_polarity</th>\n",
       "      <th>abs_title_subjectivity</th>\n",
       "      <th>abs_title_sentiment_polarity</th>\n",
       "      <th>shares</th>\n",
       "    </tr>\n",
       "  </thead>\n",
       "  <tbody>\n",
       "    <tr>\n",
       "      <th>0</th>\n",
       "      <td>http://mashable.com/2013/01/07/amazon-instant-...</td>\n",
       "      <td>731.0</td>\n",
       "      <td>12.0</td>\n",
       "      <td>219.0</td>\n",
       "      <td>0.663594</td>\n",
       "      <td>1.0</td>\n",
       "      <td>0.815385</td>\n",
       "      <td>4.0</td>\n",
       "      <td>2.0</td>\n",
       "      <td>1.0</td>\n",
       "      <td>...</td>\n",
       "      <td>0.100000</td>\n",
       "      <td>0.7</td>\n",
       "      <td>-0.350000</td>\n",
       "      <td>-0.600</td>\n",
       "      <td>-0.200000</td>\n",
       "      <td>0.500000</td>\n",
       "      <td>-0.187500</td>\n",
       "      <td>0.000000</td>\n",
       "      <td>0.187500</td>\n",
       "      <td>593</td>\n",
       "    </tr>\n",
       "    <tr>\n",
       "      <th>1</th>\n",
       "      <td>http://mashable.com/2013/01/07/ap-samsung-spon...</td>\n",
       "      <td>731.0</td>\n",
       "      <td>9.0</td>\n",
       "      <td>255.0</td>\n",
       "      <td>0.604743</td>\n",
       "      <td>1.0</td>\n",
       "      <td>0.791946</td>\n",
       "      <td>3.0</td>\n",
       "      <td>1.0</td>\n",
       "      <td>1.0</td>\n",
       "      <td>...</td>\n",
       "      <td>0.033333</td>\n",
       "      <td>0.7</td>\n",
       "      <td>-0.118750</td>\n",
       "      <td>-0.125</td>\n",
       "      <td>-0.100000</td>\n",
       "      <td>0.000000</td>\n",
       "      <td>0.000000</td>\n",
       "      <td>0.500000</td>\n",
       "      <td>0.000000</td>\n",
       "      <td>711</td>\n",
       "    </tr>\n",
       "    <tr>\n",
       "      <th>2</th>\n",
       "      <td>http://mashable.com/2013/01/07/apple-40-billio...</td>\n",
       "      <td>731.0</td>\n",
       "      <td>9.0</td>\n",
       "      <td>211.0</td>\n",
       "      <td>0.575130</td>\n",
       "      <td>1.0</td>\n",
       "      <td>0.663866</td>\n",
       "      <td>3.0</td>\n",
       "      <td>1.0</td>\n",
       "      <td>1.0</td>\n",
       "      <td>...</td>\n",
       "      <td>0.100000</td>\n",
       "      <td>1.0</td>\n",
       "      <td>-0.466667</td>\n",
       "      <td>-0.800</td>\n",
       "      <td>-0.133333</td>\n",
       "      <td>0.000000</td>\n",
       "      <td>0.000000</td>\n",
       "      <td>0.500000</td>\n",
       "      <td>0.000000</td>\n",
       "      <td>1500</td>\n",
       "    </tr>\n",
       "    <tr>\n",
       "      <th>3</th>\n",
       "      <td>http://mashable.com/2013/01/07/astronaut-notre...</td>\n",
       "      <td>731.0</td>\n",
       "      <td>9.0</td>\n",
       "      <td>531.0</td>\n",
       "      <td>0.503788</td>\n",
       "      <td>1.0</td>\n",
       "      <td>0.665635</td>\n",
       "      <td>9.0</td>\n",
       "      <td>0.0</td>\n",
       "      <td>1.0</td>\n",
       "      <td>...</td>\n",
       "      <td>0.136364</td>\n",
       "      <td>0.8</td>\n",
       "      <td>-0.369697</td>\n",
       "      <td>-0.600</td>\n",
       "      <td>-0.166667</td>\n",
       "      <td>0.000000</td>\n",
       "      <td>0.000000</td>\n",
       "      <td>0.500000</td>\n",
       "      <td>0.000000</td>\n",
       "      <td>1200</td>\n",
       "    </tr>\n",
       "    <tr>\n",
       "      <th>4</th>\n",
       "      <td>http://mashable.com/2013/01/07/att-u-verse-apps/</td>\n",
       "      <td>731.0</td>\n",
       "      <td>13.0</td>\n",
       "      <td>1072.0</td>\n",
       "      <td>0.415646</td>\n",
       "      <td>1.0</td>\n",
       "      <td>0.540890</td>\n",
       "      <td>19.0</td>\n",
       "      <td>19.0</td>\n",
       "      <td>20.0</td>\n",
       "      <td>...</td>\n",
       "      <td>0.033333</td>\n",
       "      <td>1.0</td>\n",
       "      <td>-0.220192</td>\n",
       "      <td>-0.500</td>\n",
       "      <td>-0.050000</td>\n",
       "      <td>0.454545</td>\n",
       "      <td>0.136364</td>\n",
       "      <td>0.045455</td>\n",
       "      <td>0.136364</td>\n",
       "      <td>505</td>\n",
       "    </tr>\n",
       "  </tbody>\n",
       "</table>\n",
       "<p>5 rows × 61 columns</p>\n",
       "</div>"
      ],
      "text/plain": [
       "                                                 url   timedelta  \\\n",
       "0  http://mashable.com/2013/01/07/amazon-instant-...       731.0   \n",
       "1  http://mashable.com/2013/01/07/ap-samsung-spon...       731.0   \n",
       "2  http://mashable.com/2013/01/07/apple-40-billio...       731.0   \n",
       "3  http://mashable.com/2013/01/07/astronaut-notre...       731.0   \n",
       "4   http://mashable.com/2013/01/07/att-u-verse-apps/       731.0   \n",
       "\n",
       "    n_tokens_title   n_tokens_content   n_unique_tokens   n_non_stop_words  \\\n",
       "0             12.0              219.0          0.663594                1.0   \n",
       "1              9.0              255.0          0.604743                1.0   \n",
       "2              9.0              211.0          0.575130                1.0   \n",
       "3              9.0              531.0          0.503788                1.0   \n",
       "4             13.0             1072.0          0.415646                1.0   \n",
       "\n",
       "    n_non_stop_unique_tokens   num_hrefs   num_self_hrefs   num_imgs  ...  \\\n",
       "0                   0.815385         4.0              2.0        1.0  ...   \n",
       "1                   0.791946         3.0              1.0        1.0  ...   \n",
       "2                   0.663866         3.0              1.0        1.0  ...   \n",
       "3                   0.665635         9.0              0.0        1.0  ...   \n",
       "4                   0.540890        19.0             19.0       20.0  ...   \n",
       "\n",
       "    min_positive_polarity   max_positive_polarity   avg_negative_polarity  \\\n",
       "0                0.100000                     0.7               -0.350000   \n",
       "1                0.033333                     0.7               -0.118750   \n",
       "2                0.100000                     1.0               -0.466667   \n",
       "3                0.136364                     0.8               -0.369697   \n",
       "4                0.033333                     1.0               -0.220192   \n",
       "\n",
       "    min_negative_polarity   max_negative_polarity   title_subjectivity  \\\n",
       "0                  -0.600               -0.200000             0.500000   \n",
       "1                  -0.125               -0.100000             0.000000   \n",
       "2                  -0.800               -0.133333             0.000000   \n",
       "3                  -0.600               -0.166667             0.000000   \n",
       "4                  -0.500               -0.050000             0.454545   \n",
       "\n",
       "    title_sentiment_polarity   abs_title_subjectivity  \\\n",
       "0                  -0.187500                 0.000000   \n",
       "1                   0.000000                 0.500000   \n",
       "2                   0.000000                 0.500000   \n",
       "3                   0.000000                 0.500000   \n",
       "4                   0.136364                 0.045455   \n",
       "\n",
       "    abs_title_sentiment_polarity   shares  \n",
       "0                       0.187500      593  \n",
       "1                       0.000000      711  \n",
       "2                       0.000000     1500  \n",
       "3                       0.000000     1200  \n",
       "4                       0.136364      505  \n",
       "\n",
       "[5 rows x 61 columns]"
      ]
     },
     "execution_count": 2,
     "metadata": {},
     "output_type": "execute_result"
    }
   ],
   "source": [
    "df = pd.read_csv(\"../data/OnlineNewsPopularity.csv\")\n",
    "df.head()"
   ]
  },
  {
   "cell_type": "code",
   "execution_count": 3,
   "id": "2d83989a-2cb9-4b6d-a586-2fa86e97e92a",
   "metadata": {},
   "outputs": [
    {
     "data": {
      "text/plain": [
       "Index(['url', ' timedelta', ' n_tokens_title', ' n_tokens_content',\n",
       "       ' n_unique_tokens', ' n_non_stop_words', ' n_non_stop_unique_tokens',\n",
       "       ' num_hrefs', ' num_self_hrefs', ' num_imgs', ' num_videos',\n",
       "       ' average_token_length', ' num_keywords', ' data_channel_is_lifestyle',\n",
       "       ' data_channel_is_entertainment', ' data_channel_is_bus',\n",
       "       ' data_channel_is_socmed', ' data_channel_is_tech',\n",
       "       ' data_channel_is_world', ' kw_min_min', ' kw_max_min', ' kw_avg_min',\n",
       "       ' kw_min_max', ' kw_max_max', ' kw_avg_max', ' kw_min_avg',\n",
       "       ' kw_max_avg', ' kw_avg_avg', ' self_reference_min_shares',\n",
       "       ' self_reference_max_shares', ' self_reference_avg_sharess',\n",
       "       ' weekday_is_monday', ' weekday_is_tuesday', ' weekday_is_wednesday',\n",
       "       ' weekday_is_thursday', ' weekday_is_friday', ' weekday_is_saturday',\n",
       "       ' weekday_is_sunday', ' is_weekend', ' LDA_00', ' LDA_01', ' LDA_02',\n",
       "       ' LDA_03', ' LDA_04', ' global_subjectivity',\n",
       "       ' global_sentiment_polarity', ' global_rate_positive_words',\n",
       "       ' global_rate_negative_words', ' rate_positive_words',\n",
       "       ' rate_negative_words', ' avg_positive_polarity',\n",
       "       ' min_positive_polarity', ' max_positive_polarity',\n",
       "       ' avg_negative_polarity', ' min_negative_polarity',\n",
       "       ' max_negative_polarity', ' title_subjectivity',\n",
       "       ' title_sentiment_polarity', ' abs_title_subjectivity',\n",
       "       ' abs_title_sentiment_polarity', ' shares'],\n",
       "      dtype='object')"
      ]
     },
     "execution_count": 3,
     "metadata": {},
     "output_type": "execute_result"
    }
   ],
   "source": [
    "df.columns"
   ]
  },
  {
   "cell_type": "code",
   "execution_count": 34,
   "id": "db89b28e-d2b7-4352-b65e-4f44c3179a98",
   "metadata": {},
   "outputs": [],
   "source": [
    "# Function to determine the category\n",
    "def get_category(row):\n",
    "    if row[' data_channel_is_lifestyle'] == 1:\n",
    "        return 'Lifestyle'\n",
    "    elif row[' data_channel_is_entertainment'] == 1:\n",
    "        return 'Entertainment'\n",
    "    elif row[' data_channel_is_bus'] == 1:\n",
    "        return 'Business'\n",
    "    elif row[' data_channel_is_socmed'] == 1:\n",
    "        return 'Social Media'\n",
    "    elif row[' data_channel_is_tech'] == 1:\n",
    "        return 'Technology'\n",
    "    elif row[' data_channel_is_world'] == 1:\n",
    "        return 'World'\n",
    "    else:\n",
    "        return 'Other'\n",
    "\n",
    "def has_image(row):\n",
    "    if row[' num_imgs'] > 0 :\n",
    "        return 1\n",
    "    else:\n",
    "        return 0\n",
    "\n",
    "def has_video(row):\n",
    "    if row[' num_videos'] > 0 :\n",
    "        return 1\n",
    "    else:\n",
    "        return 0\n",
    "        \n",
    "# Apply the function to each row to create the Category column\n",
    "df['Category'] = df.apply(get_category, axis=1)\n",
    "df['HasImage'] = df.apply(has_image, axis=1)\n",
    "df['HasVideo'] = df.apply(has_video, axis=1)"
   ]
  },
  {
   "cell_type": "code",
   "execution_count": 56,
   "id": "f4ba3022-a400-4bd5-9a62-e387ab90a506",
   "metadata": {},
   "outputs": [
    {
     "data": {
      "text/plain": [
       "<Axes: xlabel='Category'>"
      ]
     },
     "execution_count": 56,
     "metadata": {},
     "output_type": "execute_result"
    },
    {
     "data": {
      "image/png": "[encoded data removed]",
      "text/plain": [
       "<Figure size 640x480 with 1 Axes>"
      ]
     },
     "metadata": {},
     "output_type": "display_data"
    }
   ],
   "source": [
    "df['Category'].value_counts().sort_index().plot(kind='bar')"
   ]
  },
  {
   "cell_type": "code",
   "execution_count": 41,
   "id": "4400835c-5b08-4bdd-9664-a31fc84de3d2",
   "metadata": {},
   "outputs": [
    {
     "data": {
      "text/html": [
       "<div>\n",
       "<style scoped>\n",
       "    .dataframe tbody tr th:only-of-type {\n",
       "        vertical-align: middle;\n",
       "    }\n",
       "\n",
       "    .dataframe tbody tr th {\n",
       "        vertical-align: top;\n",
       "    }\n",
       "\n",
       "    .dataframe thead th {\n",
       "        text-align: right;\n",
       "    }\n",
       "</style>\n",
       "<table border=\"1\" class=\"dataframe\">\n",
       "  <thead>\n",
       "    <tr style=\"text-align: right;\">\n",
       "      <th></th>\n",
       "      <th>Category</th>\n",
       "      <th>Total Number of Blogs</th>\n",
       "      <th>No of blogs with Image(s)</th>\n",
       "      <th>No of blogs with Video(s)</th>\n",
       "    </tr>\n",
       "  </thead>\n",
       "  <tbody>\n",
       "    <tr>\n",
       "      <th>0</th>\n",
       "      <td>Business</td>\n",
       "      <td>6258</td>\n",
       "      <td>5509</td>\n",
       "      <td>1365</td>\n",
       "    </tr>\n",
       "    <tr>\n",
       "      <th>1</th>\n",
       "      <td>Entertainment</td>\n",
       "      <td>7057</td>\n",
       "      <td>5720</td>\n",
       "      <td>3905</td>\n",
       "    </tr>\n",
       "    <tr>\n",
       "      <th>2</th>\n",
       "      <td>Lifestyle</td>\n",
       "      <td>2099</td>\n",
       "      <td>1814</td>\n",
       "      <td>468</td>\n",
       "    </tr>\n",
       "    <tr>\n",
       "      <th>3</th>\n",
       "      <td>Other</td>\n",
       "      <td>6134</td>\n",
       "      <td>3859</td>\n",
       "      <td>3469</td>\n",
       "    </tr>\n",
       "    <tr>\n",
       "      <th>4</th>\n",
       "      <td>Social Media</td>\n",
       "      <td>2323</td>\n",
       "      <td>2050</td>\n",
       "      <td>681</td>\n",
       "    </tr>\n",
       "    <tr>\n",
       "      <th>5</th>\n",
       "      <td>Technology</td>\n",
       "      <td>7346</td>\n",
       "      <td>6164</td>\n",
       "      <td>2071</td>\n",
       "    </tr>\n",
       "    <tr>\n",
       "      <th>6</th>\n",
       "      <td>World</td>\n",
       "      <td>8427</td>\n",
       "      <td>7541</td>\n",
       "      <td>2659</td>\n",
       "    </tr>\n",
       "  </tbody>\n",
       "</table>\n",
       "</div>"
      ],
      "text/plain": [
       "        Category  Total Number of Blogs  No of blogs with Image(s)  \\\n",
       "0       Business                   6258                       5509   \n",
       "1  Entertainment                   7057                       5720   \n",
       "2      Lifestyle                   2099                       1814   \n",
       "3          Other                   6134                       3859   \n",
       "4   Social Media                   2323                       2050   \n",
       "5     Technology                   7346                       6164   \n",
       "6          World                   8427                       7541   \n",
       "\n",
       "   No of blogs with Video(s)  \n",
       "0                       1365  \n",
       "1                       3905  \n",
       "2                        468  \n",
       "3                       3469  \n",
       "4                        681  \n",
       "5                       2071  \n",
       "6                       2659  "
      ]
     },
     "execution_count": 41,
     "metadata": {},
     "output_type": "execute_result"
    }
   ],
   "source": [
    "d = {'url':'Total Number of Blogs','HasImage':'No of blogs with Image(s)','HasVideo':'No of blogs with Video(s)'}\n",
    "agg_d = {'url':'size', 'HasImage':'sum', 'HasVideo' : 'sum'}\n",
    "df_counts = df.groupby('Category', as_index=False).agg(agg_d).rename(columns=d)\n",
    "df_counts"
   ]
  },
  {
   "cell_type": "code",
   "execution_count": 58,
   "id": "31708d9d-8bd4-41fb-95aa-b4395fd2abe4",
   "metadata": {},
   "outputs": [
    {
     "data": {
      "text/plain": [
       "<Axes: title={'center': 'Stacked Bar Graph by dataframe'}, xlabel='Category'>"
      ]
     },
     "execution_count": 58,
     "metadata": {},
     "output_type": "execute_result"
    },
    {
     "data": {
      "image/png": "[encoded data removed]",
      "text/plain": [
       "<Figure size 640x480 with 1 Axes>"
      ]
     },
     "metadata": {},
     "output_type": "display_data"
    }
   ],
   "source": [
    "df_counts_for_graph = df_counts[['Category', 'No of blogs with Image(s)', 'Total Number of Blogs' ]]\n",
    "\n",
    "df_counts_for_graph['No of blogs without Image(s)'] = df_counts_for_graph['Total Number of Blogs'] - df_counts_for_graph['No of blogs with Image(s)']\n",
    "\n",
    "df_counts_for_graph = df_counts_for_graph.drop('Total Number of Blogs', axis=1)\n",
    "\n",
    "df_counts_for_graph.sort_index().plot(x='Category', kind='bar', stacked=True,\n",
    "        title='Stacked Bar Graph by dataframe')"
   ]
  },
  {
   "cell_type": "code",
   "execution_count": 59,
   "id": "9fffc80f-309a-48e6-9ecc-e46815355db2",
   "metadata": {},
   "outputs": [
    {
     "data": {
      "text/plain": [
       "<Axes: title={'center': 'Stacked Bar Graph by dataframe'}, xlabel='Category'>"
      ]
     },
     "execution_count": 59,
     "metadata": {},
     "output_type": "execute_result"
    },
    {
     "data": {
      "image/png": "[encoded data removed]",
      "text/plain": [
       "<Figure size 640x480 with 1 Axes>"
      ]
     },
     "metadata": {},
     "output_type": "display_data"
    }
   ],
   "source": [
    "df_counts_for_graph = df_counts[['Category', 'No of blogs with Video(s)', 'Total Number of Blogs' ]]\n",
    "\n",
    "df_counts_for_graph['No of blogs without Video(s)'] = df_counts_for_graph['Total Number of Blogs'] - df_counts_for_graph['No of blogs with Video(s)']\n",
    "\n",
    "df_counts_for_graph = df_counts_for_graph.drop('Total Number of Blogs', axis=1)\n",
    "\n",
    "df_counts_for_graph.plot(x='Category', kind='bar', stacked=True,\n",
    "        title='Stacked Bar Graph by dataframe')"
   ]
  },
  {
   "cell_type": "code",
   "execution_count": null,
   "id": "9f70ffc9-85ef-44bb-92a5-8bba684db2e0",
   "metadata": {},
   "outputs": [],
   "source": []
  },
  {
   "cell_type": "code",
   "execution_count": 8,
   "id": "3bfc6c28-257d-47be-885f-8f453a2cb961",
   "metadata": {},
   "outputs": [],
   "source": [
    "df_x = df[[' num_imgs', ' num_videos']]\n",
    "df_y = df[' shares']"
   ]
  },
  {
   "cell_type": "code",
   "execution_count": 9,
   "id": "9c38c380-a626-4e6c-a9bc-f4a88fe7c4ea",
   "metadata": {},
   "outputs": [
    {
     "name": "stdout",
     "output_type": "stream",
     "text": [
      "Intercept: \n",
      " 3039.0144661991303\n",
      "Coefficients: \n",
      " [57.62953405 75.59873265]\n",
      "R square: \n",
      " 0.002261539192362272\n"
     ]
    }
   ],
   "source": [
    "regr = linear_model.LinearRegression()\n",
    "regr.fit(df_x, df_y)\n",
    "print('Intercept: \\n', regr.intercept_)\n",
    "print('Coefficients: \\n', regr.coef_)\n",
    "print('R square: \\n', regr.score(df_x, df_y))"
   ]
  },
  {
   "cell_type": "code",
   "execution_count": 10,
   "id": "b752e6fd-30f0-46e2-9a57-4dc3f6b86416",
   "metadata": {},
   "outputs": [
    {
     "name": "stdout",
     "output_type": "stream",
     "text": [
      "Intercept: \n",
      " 3026.1376166301948\n",
      "Coefficients: \n",
      " [61.74344266 83.62308932 -4.68670564]\n",
      "R square: \n",
      " 0.002347846304295631\n"
     ]
    }
   ],
   "source": [
    "poly = PolynomialFeatures(interaction_only=True,include_bias = False)\n",
    "df_x_interactions = poly.fit_transform(df_x)\n",
    "\n",
    "clf = linear_model.LinearRegression()\n",
    "clf.fit(df_x_interactions, df_y)\n",
    "\n",
    "print('Intercept: \\n', clf.intercept_)\n",
    "print('Coefficients: \\n', clf.coef_)\n",
    "print('R square: \\n', clf.score(df_x_interactions, df_y))"
   ]
  },
  {
   "cell_type": "code",
   "execution_count": 11,
   "id": "bf0a3437-dcec-484a-89ee-9ad9815cd46e",
   "metadata": {},
   "outputs": [],
   "source": [
    "df_lifestyle = df[df['Category']== 'Lifestyle']\n",
    "df_entertainment = df[df['Category']== 'Entertainment']\n",
    "df_bus = df[df['Category']== 'Business']\n",
    "df_socmed = df[df['Category']== 'Social Media']\n",
    "df_tech = df[df['Category']== 'Technology']\n",
    "df_world = df[df['Category']== 'World']\n",
    "df_other = df[df['Category']== 'Other']"
   ]
  },
  {
   "cell_type": "code",
   "execution_count": 63,
   "id": "0b92453a-a817-4fe1-a391-9bca7eb2b6ee",
   "metadata": {},
   "outputs": [],
   "source": [
    "categories = ['Lifestyle','Entertainment', 'Business','Social Media','Technology','World','Other']"
   ]
  },
  {
   "cell_type": "code",
   "execution_count": 12,
   "id": "ef7bf950-48d3-4749-9ec7-1403bb3bcf56",
   "metadata": {},
   "outputs": [
    {
     "data": {
      "text/plain": [
       "0"
      ]
     },
     "execution_count": 12,
     "metadata": {},
     "output_type": "execute_result"
    }
   ],
   "source": [
    "len(df) - (len(df_lifestyle) + len(df_entertainment) + len(df_bus) + len(df_socmed) + len(df_tech) + len(df_world) + len(df_other))"
   ]
  },
  {
   "cell_type": "code",
   "execution_count": null,
   "id": "b9cb2bbb-d0cb-4648-a77b-cf0b8a2b3175",
   "metadata": {},
   "outputs": [],
   "source": [
    "df_lifestyle_x = df_lifestyle[[' num_imgs', ' num_videos']]\n",
    "df_lifestyle_y = df_lifestyle[' shares']\n",
    "\n",
    "regr_lifestyle_1 = linear_model.LinearRegression()\n",
    "regr_lifestyle_1.fit(df_lifestyle_x, df_lifestyle_y)\n",
    "\n",
    "print('Multiple linear regression without interaction: \\n')\n",
    "print('Intercept: \\n', regr_lifestyle_1.intercept_)\n",
    "print('Coefficients: \\n', regr_lifestyle_1.coef_)\n",
    "print('R square: \\n', regr_lifestyle_1.score(df_lifestyle_x, df_lifestyle_y))\n",
    "\n",
    "df_x_lifestyle_interactions = poly.fit_transform(df_lifestyle_x)\n",
    "\n",
    "regr_lifestyle_2 = linear_model.LinearRegression()\n",
    "regr_lifestyle_2.fit(df_x_lifestyle_interactions, df_lifestyle_y)\n",
    "\n",
    "print('Multiple linear regression with interaction: \\n')\n",
    "print('Intercept: \\n', regr_lifestyle_2.intercept_)\n",
    "print('Coefficients: \\n', regr_lifestyle_2.coef_)\n",
    "print('R square: \\n', regr_lifestyle_2.score(df_x_lifestyle_interactions, df_lifestyle_y))"
   ]
  },
  {
   "cell_type": "code",
   "execution_count": null,
   "id": "5037ca08-745b-46c7-b19e-f3944023786f",
   "metadata": {},
   "outputs": [],
   "source": [
    "df_entertainment_x = df_entertainment[[' num_imgs', ' num_videos']]\n",
    "df_entertainment_y = df_entertainment[' shares']\n",
    "\n",
    "regr_entertainment_1 = linear_model.LinearRegression()\n",
    "regr_entertainment_1.fit(df_entertainment_x, df_entertainment_y)\n",
    "\n",
    "print('Multiple linear regression without interaction: \\n')\n",
    "print('Intercept: \\n', regr_entertainment_1.intercept_)\n",
    "print('Coefficients: \\n', regr_entertainment_1.coef_)\n",
    "print('R square: \\n', regr_entertainment_1.score(df_entertainment_x, df_entertainment_y))\n",
    "\n",
    "df_x_entertainment_interactions = poly.fit_transform(df_entertainment_x)\n",
    "\n",
    "regr_entertainment_2 = linear_model.LinearRegression()\n",
    "regr_entertainment_2.fit(df_x_entertainment_interactions, df_entertainment_y)\n",
    "\n",
    "print('Multiple linear regression with interaction: \\n')\n",
    "print('Intercept: \\n', regr_entertainment_2.intercept_)\n",
    "print('Coefficients: \\n', regr_entertainment_2.coef_)\n",
    "print('R square: \\n', regr_entertainment_2.score(df_x_entertainment_interactions, df_entertainment_y))"
   ]
  },
  {
   "cell_type": "code",
   "execution_count": 13,
   "id": "1ebb922c-698f-4b2c-8e4c-49e2cc719662",
   "metadata": {},
   "outputs": [
    {
     "data": {
      "text/plain": [
       "[1814, 5720, 5509, 2050, 6164, 7541, 3859]"
      ]
     },
     "execution_count": 13,
     "metadata": {},
     "output_type": "execute_result"
    }
   ],
   "source": [
    "# is the number of blogs with images and videos uniformly distributed across all categories?\n",
    "# chi square goodness of fit\n",
    "observedData_images  = [len(df_lifestyle[df_lifestyle[' num_imgs'] > 0]),\n",
    "            len(df_entertainment[df_entertainment[' num_imgs'] > 0]),\n",
    "            len(df_bus[df_bus[' num_imgs'] > 0]),\n",
    "            len(df_socmed[df_socmed[' num_imgs'] > 0]),\n",
    "            len(df_tech[df_tech[' num_imgs'] > 0]),\n",
    "            len(df_world[df_world[' num_imgs'] > 0]),\n",
    "            len(df_other[df_other[' num_imgs'] > 0])\n",
    "           ]\n",
    "\n",
    "observedData_images"
   ]
  },
  {
   "cell_type": "code",
   "execution_count": 14,
   "id": "681748ff-b98a-43a9-8026-b67be3b2e0c0",
   "metadata": {},
   "outputs": [],
   "source": [
    "p_image = len(df[df[' num_imgs'] > 0]) / len(df)"
   ]
  },
  {
   "cell_type": "code",
   "execution_count": 16,
   "id": "ed2be86c-780b-4a24-af19-aa6a36ab8bc3",
   "metadata": {},
   "outputs": [
    {
     "data": {
      "text/plain": [
       "[1729.0647512864493,\n",
       " 5813.249142367066,\n",
       " 5155.067753001715,\n",
       " 1913.586192109777,\n",
       " 6051.314751286449,\n",
       " 6941.795454545454,\n",
       " 5052.921955403087]"
      ]
     },
     "execution_count": 16,
     "metadata": {},
     "output_type": "execute_result"
    }
   ],
   "source": [
    "expectedData_images = [len(df_lifestyle) * p_image,\n",
    "                       len(df_entertainment) * p_image,\n",
    "                       len(df_bus) * p_image,\n",
    "                       len(df_socmed) * p_image,\n",
    "                       len(df_tech) * p_image,\n",
    "                       len(df_world) * p_image,\n",
    "                       len(df_other) * p_image,\n",
    "                      ]\n",
    "\n",
    "expectedData_images"
   ]
  },
  {
   "cell_type": "code",
   "execution_count": 17,
   "id": "2ff7e208-97c0-4800-8002-34bc48fee6e5",
   "metadata": {},
   "outputs": [
    {
     "name": "stdout",
     "output_type": "stream",
     "text": [
      "32657.0\n",
      "32657\n"
     ]
    }
   ],
   "source": [
    "print(sum(expectedData_images))\n",
    "print(sum(observedData_images))"
   ]
  },
  {
   "cell_type": "code",
   "execution_count": 65,
   "id": "6fcb6432-d6de-48ad-864a-1fadcc73b5b5",
   "metadata": {},
   "outputs": [
    {
     "data": {
      "text/html": [
       "<div>\n",
       "<style scoped>\n",
       "    .dataframe tbody tr th:only-of-type {\n",
       "        vertical-align: middle;\n",
       "    }\n",
       "\n",
       "    .dataframe tbody tr th {\n",
       "        vertical-align: top;\n",
       "    }\n",
       "\n",
       "    .dataframe thead th {\n",
       "        text-align: right;\n",
       "    }\n",
       "</style>\n",
       "<table border=\"1\" class=\"dataframe\">\n",
       "  <thead>\n",
       "    <tr style=\"text-align: right;\">\n",
       "      <th></th>\n",
       "      <th>Category</th>\n",
       "      <th>Observed</th>\n",
       "      <th>Expected</th>\n",
       "    </tr>\n",
       "  </thead>\n",
       "  <tbody>\n",
       "    <tr>\n",
       "      <th>2</th>\n",
       "      <td>Business</td>\n",
       "      <td>5509</td>\n",
       "      <td>5155.067753</td>\n",
       "    </tr>\n",
       "    <tr>\n",
       "      <th>1</th>\n",
       "      <td>Entertainment</td>\n",
       "      <td>5720</td>\n",
       "      <td>5813.249142</td>\n",
       "    </tr>\n",
       "    <tr>\n",
       "      <th>0</th>\n",
       "      <td>Lifestyle</td>\n",
       "      <td>1814</td>\n",
       "      <td>1729.064751</td>\n",
       "    </tr>\n",
       "    <tr>\n",
       "      <th>6</th>\n",
       "      <td>Other</td>\n",
       "      <td>3859</td>\n",
       "      <td>5052.921955</td>\n",
       "    </tr>\n",
       "    <tr>\n",
       "      <th>3</th>\n",
       "      <td>Social Media</td>\n",
       "      <td>2050</td>\n",
       "      <td>1913.586192</td>\n",
       "    </tr>\n",
       "    <tr>\n",
       "      <th>4</th>\n",
       "      <td>Technology</td>\n",
       "      <td>6164</td>\n",
       "      <td>6051.314751</td>\n",
       "    </tr>\n",
       "    <tr>\n",
       "      <th>5</th>\n",
       "      <td>World</td>\n",
       "      <td>7541</td>\n",
       "      <td>6941.795455</td>\n",
       "    </tr>\n",
       "  </tbody>\n",
       "</table>\n",
       "</div>"
      ],
      "text/plain": [
       "        Category  Observed     Expected\n",
       "2       Business      5509  5155.067753\n",
       "1  Entertainment      5720  5813.249142\n",
       "0      Lifestyle      1814  1729.064751\n",
       "6          Other      3859  5052.921955\n",
       "3   Social Media      2050  1913.586192\n",
       "4     Technology      6164  6051.314751\n",
       "5          World      7541  6941.795455"
      ]
     },
     "execution_count": 65,
     "metadata": {},
     "output_type": "execute_result"
    }
   ],
   "source": [
    "pd.DataFrame({'Category': categories,'Observed':observedData_images, 'Expected':expectedData_images}).sort_values('Category')"
   ]
  },
  {
   "cell_type": "code",
   "execution_count": 20,
   "id": "e4e32ba8-0a69-49c6-9bd6-2e34de496c73",
   "metadata": {},
   "outputs": [
    {
     "name": "stdout",
     "output_type": "stream",
     "text": [
      "Power_divergenceResult(statistic=375.61727023741855, pvalue=4.861519213486812e-78)\n"
     ]
    }
   ],
   "source": [
    "goodness_of_fit_images = stats.chisquare(observedData_images, expectedData_images) \n",
    "print(goodness_of_fit_images)"
   ]
  },
  {
   "cell_type": "code",
   "execution_count": 22,
   "id": "e52965b5-95a8-4a2e-b3cb-f19eab8906cc",
   "metadata": {},
   "outputs": [
    {
     "data": {
      "text/plain": [
       "[468, 3905, 1365, 681, 2071, 2659, 3469]"
      ]
     },
     "execution_count": 22,
     "metadata": {},
     "output_type": "execute_result"
    }
   ],
   "source": [
    "observedData_video  = [len(df_lifestyle[df_lifestyle[' num_videos'] > 0]),\n",
    "            len(df_entertainment[df_entertainment[' num_videos'] > 0]),\n",
    "            len(df_bus[df_bus[' num_videos'] > 0]),\n",
    "            len(df_socmed[df_socmed[' num_videos'] > 0]),\n",
    "            len(df_tech[df_tech[' num_videos'] > 0]),\n",
    "            len(df_world[df_world[' num_videos'] > 0]),\n",
    "            len(df_other[df_other[' num_videos'] > 0])\n",
    "           ]\n",
    "\n",
    "observedData_video"
   ]
  },
  {
   "cell_type": "code",
   "execution_count": 25,
   "id": "349d1bc3-ea7c-4fe9-8b97-998b20ddffe3",
   "metadata": {},
   "outputs": [
    {
     "data": {
      "text/plain": [
       "0.3687317122389264"
      ]
     },
     "execution_count": 25,
     "metadata": {},
     "output_type": "execute_result"
    }
   ],
   "source": [
    "p_video = len(df[df[' num_videos'] > 0]) / len(df)\n",
    "p_video"
   ]
  },
  {
   "cell_type": "code",
   "execution_count": 24,
   "id": "8f714800-c4e9-4781-835e-d09a6821fab3",
   "metadata": {},
   "outputs": [
    {
     "data": {
      "text/plain": [
       "[773.9678639895066,\n",
       " 2602.1396932701036,\n",
       " 2307.5230551912014,\n",
       " 856.5637675310261,\n",
       " 2708.7031581071533,\n",
       " 3107.302139037433,\n",
       " 2261.8003228735747]"
      ]
     },
     "execution_count": 24,
     "metadata": {},
     "output_type": "execute_result"
    }
   ],
   "source": [
    "expectedData_videos = [len(df_lifestyle) * p_video,\n",
    "                       len(df_entertainment) * p_video,\n",
    "                       len(df_bus) * p_video,\n",
    "                       len(df_socmed) * p_video,\n",
    "                       len(df_tech) * p_video,\n",
    "                       len(df_world) * p_video,\n",
    "                       len(df_other) * p_video,\n",
    "                      ]\n",
    "\n",
    "expectedData_videos"
   ]
  },
  {
   "cell_type": "code",
   "execution_count": 27,
   "id": "c3215355-36ab-41e5-9263-0579f546f6a3",
   "metadata": {},
   "outputs": [
    {
     "name": "stdout",
     "output_type": "stream",
     "text": [
      "14618\n",
      "14617.999999999998\n"
     ]
    }
   ],
   "source": [
    "print(sum(observedData_video))\n",
    "print(sum(expectedData_videos))"
   ]
  },
  {
   "cell_type": "code",
   "execution_count": 66,
   "id": "754fcca5-ccda-4c9b-ac09-0c2193f656a1",
   "metadata": {},
   "outputs": [
    {
     "data": {
      "text/html": [
       "<div>\n",
       "<style scoped>\n",
       "    .dataframe tbody tr th:only-of-type {\n",
       "        vertical-align: middle;\n",
       "    }\n",
       "\n",
       "    .dataframe tbody tr th {\n",
       "        vertical-align: top;\n",
       "    }\n",
       "\n",
       "    .dataframe thead th {\n",
       "        text-align: right;\n",
       "    }\n",
       "</style>\n",
       "<table border=\"1\" class=\"dataframe\">\n",
       "  <thead>\n",
       "    <tr style=\"text-align: right;\">\n",
       "      <th></th>\n",
       "      <th>Category</th>\n",
       "      <th>Observed</th>\n",
       "      <th>Expected</th>\n",
       "    </tr>\n",
       "  </thead>\n",
       "  <tbody>\n",
       "    <tr>\n",
       "      <th>2</th>\n",
       "      <td>Business</td>\n",
       "      <td>1365</td>\n",
       "      <td>2307.523055</td>\n",
       "    </tr>\n",
       "    <tr>\n",
       "      <th>1</th>\n",
       "      <td>Entertainment</td>\n",
       "      <td>3905</td>\n",
       "      <td>2602.139693</td>\n",
       "    </tr>\n",
       "    <tr>\n",
       "      <th>0</th>\n",
       "      <td>Lifestyle</td>\n",
       "      <td>468</td>\n",
       "      <td>773.967864</td>\n",
       "    </tr>\n",
       "    <tr>\n",
       "      <th>6</th>\n",
       "      <td>Other</td>\n",
       "      <td>3469</td>\n",
       "      <td>2261.800323</td>\n",
       "    </tr>\n",
       "    <tr>\n",
       "      <th>3</th>\n",
       "      <td>Social Media</td>\n",
       "      <td>681</td>\n",
       "      <td>856.563768</td>\n",
       "    </tr>\n",
       "    <tr>\n",
       "      <th>4</th>\n",
       "      <td>Technology</td>\n",
       "      <td>2071</td>\n",
       "      <td>2708.703158</td>\n",
       "    </tr>\n",
       "    <tr>\n",
       "      <th>5</th>\n",
       "      <td>World</td>\n",
       "      <td>2659</td>\n",
       "      <td>3107.302139</td>\n",
       "    </tr>\n",
       "  </tbody>\n",
       "</table>\n",
       "</div>"
      ],
      "text/plain": [
       "        Category  Observed     Expected\n",
       "2       Business      1365  2307.523055\n",
       "1  Entertainment      3905  2602.139693\n",
       "0      Lifestyle       468   773.967864\n",
       "6          Other      3469  2261.800323\n",
       "3   Social Media       681   856.563768\n",
       "4     Technology      2071  2708.703158\n",
       "5          World      2659  3107.302139"
      ]
     },
     "execution_count": 66,
     "metadata": {},
     "output_type": "execute_result"
    }
   ],
   "source": [
    "pd.DataFrame({'Category': categories,'Observed':observedData_video, 'Expected':expectedData_videos}).sort_values('Category')"
   ]
  },
  {
   "cell_type": "code",
   "execution_count": 28,
   "id": "30c8513e-f7f6-4437-9ec5-af5472aaba61",
   "metadata": {},
   "outputs": [
    {
     "name": "stdout",
     "output_type": "stream",
     "text": [
      "Power_divergenceResult(statistic=2053.3813643977105, pvalue=0.0)\n"
     ]
    }
   ],
   "source": [
    "goodness_of_fit_videos = stats.chisquare(observedData_video, expectedData_videos) \n",
    "print(goodness_of_fit_videos)"
   ]
  },
  {
   "cell_type": "code",
   "execution_count": null,
   "id": "70341163-9a0b-4daa-8f41-30f81e4e2ce7",
   "metadata": {},
   "outputs": [],
   "source": []
  }
 ],
 "metadata": {
  "kernelspec": {
   "display_name": "Python 3 (ipykernel)",
   "language": "python",
   "name": "python3"
  },
  "language_info": {
   "codemirror_mode": {
    "name": "ipython",
    "version": 3
   },
   "file_extension": ".py",
   "mimetype": "text/x-python",
   "name": "python",
   "nbconvert_exporter": "python",
   "pygments_lexer": "ipython3",
   "version": "3.11.5"
  }
 },
 "nbformat": 4,
 "nbformat_minor": 5
}
